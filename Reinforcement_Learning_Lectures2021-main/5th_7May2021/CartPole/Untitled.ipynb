{
 "cells": [
  {
   "cell_type": "code",
   "execution_count": 1,
   "metadata": {},
   "outputs": [],
   "source": [
    "import numpy as np\n",
    "import gym"
   ]
  },
  {
   "cell_type": "code",
   "execution_count": 2,
   "metadata": {},
   "outputs": [
    {
     "name": "stderr",
     "output_type": "stream",
     "text": [
      "/home/andrea/anaconda3/lib/python3.6/site-packages/gym/envs/registration.py:14: PkgResourcesDeprecationWarning: Parameters to load are deprecated.  Call .resolve and .require separately.\n",
      "  result = entry_point.load(False)\n"
     ]
    }
   ],
   "source": [
    "env = gym.make(\"CartPole-v1\")"
   ]
  },
  {
   "cell_type": "code",
   "execution_count": 3,
   "metadata": {},
   "outputs": [],
   "source": [
    "n_x, n_vcart, n_theta, n_vpole = (10,10,10,10)"
   ]
  },
  {
   "cell_type": "code",
   "execution_count": 4,
   "metadata": {},
   "outputs": [],
   "source": [
    "def map_to_int(val, bounds, n_points):\n",
    "    if val > bounds[1]:\n",
    "        return n_points\n",
    "    if val < bounds[0]:\n",
    "        return 0\n",
    "    return round((val - bounds[0])/(bounds[1] - bounds[0])*n_points)"
   ]
  },
  {
   "cell_type": "code",
   "execution_count": 10,
   "metadata": {},
   "outputs": [],
   "source": [
    "low_bounds, high_bounds = (env.observation_space.low, env.observation_space.high)\n",
    "bounds_x = (low_bounds[0], high_bounds[0])\n",
    "bounds_vcart = (0,5)\n",
    "bounds_theta = (low_bounds[2], high_bounds[2])\n",
    "bounds_vpole = (0,5)"
   ]
  },
  {
   "cell_type": "code",
   "execution_count": 11,
   "metadata": {},
   "outputs": [],
   "source": [
    "def Learn(env, brain, stop_rule, epsilon_greedy_rule, print_every_ep=5):\n",
    "\n",
    "    reward_trajectory = []\n",
    "    training_step = 0 # Number of updates taht the NN performs\n",
    "    \n",
    "    while True: # Cycle over all the episodes until a stop_rule is satisfied\n",
    "        \n",
    "        if stop_rule(training_step, reward_trajectory): # Check the training end\n",
    "            break \n",
    "            \n",
    "        state = env.reset() # Reset environment\n",
    "        ep_reward = 0 # Reset the score for this episode.\n",
    "        \n",
    "        while True: # Cycle over the episode steps\n",
    "\n",
    "            explore_p = epsilon_greedy_rule(training_step) # Epsilon greedy scheduling\n",
    "            action = brain.act(state, explore_p) # Get action\n",
    "            next_state, reward, done, _ = env.step(action) # Take action\n",
    "            ep_reward += reward # Accumulate reward\n",
    "\n",
    "            if done: # Episode is completed -- failure or max number of steps reached (success)\n",
    "                reward_trajectory.append(ep_reward)\n",
    "                # Add experience to bucket (next_state is None since episode is over).\n",
    "                brain.train(state, action, None, reward)\n",
    "                if len(reward_trajectory) % print_every_ep == 0:\n",
    "                    print(\"Episode: {}, Steps: {}, Last reward: {}, Explore P: {}\".format(len(reward_trajectory), training_step, ep_reward, explore_p))\n",
    "                break\n",
    "\n",
    "            brain.train(state, action, next_state, reward) # Store tuple.\n",
    "            state = next_state # Advance state\n",
    "            training_step += 1\n",
    "                \n",
    "    return reward_trajectory    "
   ]
  },
  {
   "cell_type": "code",
   "execution_count": null,
   "metadata": {},
   "outputs": [],
   "source": [
    "def Q_brain(object):\n",
    "    \n",
    "    def __init__(self, state_space_sizes, actions):\n",
    "        self.s_size = state_space_sizes\n",
    "        self.a = actions\n",
    "        self.Q = np.zeros(state_space_sizes)\n",
    "        \n",
    "        \n",
    "    def act()"
   ]
  }
 ],
 "metadata": {
  "kernelspec": {
   "display_name": "Python 3",
   "language": "python",
   "name": "python3"
  },
  "language_info": {
   "codemirror_mode": {
    "name": "ipython",
    "version": 3
   },
   "file_extension": ".py",
   "mimetype": "text/x-python",
   "name": "python",
   "nbconvert_exporter": "python",
   "pygments_lexer": "ipython3",
   "version": "3.6.6"
  }
 },
 "nbformat": 4,
 "nbformat_minor": 2
}
