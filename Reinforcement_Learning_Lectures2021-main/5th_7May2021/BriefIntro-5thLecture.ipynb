{
 "cells": [
  {
   "cell_type": "markdown",
   "id": "textile-hazard",
   "metadata": {},
   "source": [
    "# Brief Intro - 7th May 2021\n",
    "\n",
    "## Model-free control (SARSA) with Function Approximation.\n",
    "\n",
    "### 1st Half (45min)\n",
    "- An OpenAI Environment: Cart Pole\n",
    "- Linear Approximation:\n",
    "-- State Aggregation\n",
    "- - Polynomial Features\n",
    "\n",
    "#### Break (15min)\n",
    "\n",
    "### 2nd Half (45min)\n",
    "- Non-linear Approximation:\n",
    "-- Neural Networks (and how not to use them)"
   ]
  }
 ],
 "metadata": {
  "kernelspec": {
   "display_name": "Python 3",
   "language": "python",
   "name": "python3"
  },
  "language_info": {
   "codemirror_mode": {
    "name": "ipython",
    "version": 3
   },
   "file_extension": ".py",
   "mimetype": "text/x-python",
   "name": "python",
   "nbconvert_exporter": "python",
   "pygments_lexer": "ipython3",
   "version": "3.8.5"
  }
 },
 "nbformat": 4,
 "nbformat_minor": 5
}
