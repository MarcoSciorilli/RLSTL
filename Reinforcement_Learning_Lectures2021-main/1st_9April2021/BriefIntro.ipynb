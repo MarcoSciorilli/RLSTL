{
 "cells": [
  {
   "cell_type": "markdown",
   "metadata": {},
   "source": [
    "# Who am I?\n",
    "\n",
    "Emanuele Panizon, Postdoc@QLS\n",
    "\n",
    "mail: epanizon@gmail.com (Use it!) \n",
    "\n",
    "# Where can I get the notebooks?\n",
    "\n",
    "They will be available on github _after_ the lections / on slack (in a few days)."
   ]
  },
  {
   "cell_type": "markdown",
   "metadata": {},
   "source": [
    "# First lection - 9th April 2021\n",
    "\n",
    "__1st Half (45min): Travelling salesman__\n",
    "- Rewrite the problem as MDP\n",
    "- Solve it with Dynamic Programming\n",
    "\n",
    "__break (15min)__\n",
    "\n",
    "__2nd Half (45min): GridWorld__\n",
    "- Define Environment\n",
    "- Solve explicitly using Value Iteration \n",
    "- Study effects of randomicity and finite time-horizon ($\\gamma <1$)"
   ]
  }
 ],
 "metadata": {
  "kernelspec": {
   "display_name": "Python 3",
   "language": "python",
   "name": "python3"
  },
  "language_info": {
   "codemirror_mode": {
    "name": "ipython",
    "version": 3
   },
   "file_extension": ".py",
   "mimetype": "text/x-python",
   "name": "python",
   "nbconvert_exporter": "python",
   "pygments_lexer": "ipython3",
   "version": "3.8.5"
  }
 },
 "nbformat": 4,
 "nbformat_minor": 4
}
