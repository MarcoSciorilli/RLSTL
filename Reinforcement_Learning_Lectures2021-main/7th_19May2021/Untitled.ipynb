{
 "cells": [
  {
   "cell_type": "code",
   "execution_count": 1,
   "metadata": {},
   "outputs": [
    {
     "name": "stdout",
     "output_type": "stream",
     "text": [
      "Requirement already satisfied: gym in /home/epanizon/anaconda3/lib/python3.8/site-packages (0.17.3)\n",
      "Requirement already satisfied: scipy in /home/epanizon/anaconda3/lib/python3.8/site-packages (from gym) (1.5.2)\n",
      "Requirement already satisfied: numpy>=1.10.4 in /home/epanizon/anaconda3/lib/python3.8/site-packages (from gym) (1.19.2)\n",
      "Requirement already satisfied: cloudpickle<1.7.0,>=1.2.0 in /home/epanizon/anaconda3/lib/python3.8/site-packages (from gym) (1.6.0)\n",
      "Requirement already satisfied: pyglet<=1.5.0,>=1.4.0 in /home/epanizon/anaconda3/lib/python3.8/site-packages (from gym) (1.5.0)\n",
      "Requirement already satisfied: future in /home/epanizon/anaconda3/lib/python3.8/site-packages (from pyglet<=1.5.0,>=1.4.0->gym) (0.18.2)\n"
     ]
    }
   ],
   "source": []
  }
 ],
 "metadata": {
  "kernelspec": {
   "display_name": "Python 3",
   "language": "python",
   "name": "python3"
  },
  "language_info": {
   "codemirror_mode": {
    "name": "ipython",
    "version": 3
   },
   "file_extension": ".py",
   "mimetype": "text/x-python",
   "name": "python",
   "nbconvert_exporter": "python",
   "pygments_lexer": "ipython3",
   "version": "3.8.5"
  }
 },
 "nbformat": 4,
 "nbformat_minor": 4
}
