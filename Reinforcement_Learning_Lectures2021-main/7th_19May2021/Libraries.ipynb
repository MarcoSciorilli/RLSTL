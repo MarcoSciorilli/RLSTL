{
 "cells": [
  {
   "cell_type": "markdown",
   "metadata": {},
   "source": [
    "## Few very useful Libraries\n",
    "\n",
    "https://github.com/openai\n",
    "\n",
    "There, you can find:\n",
    "\n",
    "\n",
    "### Environments\n",
    "\n",
    "-- sudo apt-get install swig\n",
    "\n",
    "\n",
    "-- pip install gym[atari,box2d,classic_control]\n",
    "\n",
    "Blog and documentation:\n",
    "https://gym.openai.com/\n",
    "\n",
    "Code:\n",
    "https://github.com/openai/gym/tree/master/gym/envs\n",
    "\n",
    "\n",
    "Also robotics! But free only for students!\n",
    "https://github.com/openai/mujoco-py"
   ]
  },
  {
   "cell_type": "code",
   "execution_count": null,
   "metadata": {},
   "outputs": [],
   "source": [
    "# How to use an env?\n",
    "# Super easy: we have done it many times!\n",
    "from time import sleep\n",
    "\n",
    "import gym\n",
    "#env = gym.make(\"CartPole-v1\")\n",
    "env = gym.make(\"SpaceInvaders-v0\")\n",
    "#env = gym.make(\"LunarLander-v2\")\n",
    "\n",
    "\n",
    "observation = env.reset()\n",
    "for _ in range(10000):\n",
    "  sleep(0.01)\n",
    "  env.render()\n",
    "  action = env.action_space.sample() # your agent here (this takes random actions)\n",
    "  observation, reward, done, info = env.step(action)\n",
    "\n",
    "  if done:\n",
    "    observation = env.reset()\n",
    "env.close()\n",
    "\n",
    "\n"
   ]
  },
  {
   "cell_type": "markdown",
   "metadata": {},
   "source": [
    "\n",
    "\n",
    "### Algorithms\n",
    "\n",
    "Both for learning (SpinningUP) with very clear documentation, and for baselines (if one wants to check performance against \"state-of-the-art\").\n",
    "\n",
    "#### Spinning-UP\n",
    "\n",
    "Blog and documentation:\n",
    "https://spinningup.openai.com/en/latest/\n",
    "\n",
    "Code:\n",
    "https://github.com/openai/spinningup\n",
    "(Main differences to not get lost:\n",
    "- Batches of data points, not only one. Collected first outside the algorithms.\n",
    "- Always Artificial Neural Networks.\n",
    "- Definition of a \"loss\", gradients are evaluated automatically in the ML framework (PyTorch or Tensorflow)\n",
    ")\n",
    "\n",
    "#### Baselines\n",
    "\n",
    "\"Proper\" algorithms, efficient (but much less clear to read!)."
   ]
  },
  {
   "cell_type": "code",
   "execution_count": 16,
   "metadata": {},
   "outputs": [],
   "source": [
    "# How to use a Spinning-UP algorithm?\n",
    "\n",
    "# FOLLOW instruction here\n",
    "# https://spinningup.openai.com/en/latest/user/installation.html\n"
   ]
  }
 ],
 "metadata": {
  "kernelspec": {
   "display_name": "Python 3",
   "language": "python",
   "name": "python3"
  },
  "language_info": {
   "codemirror_mode": {
    "name": "ipython",
    "version": 3
   },
   "file_extension": ".py",
   "mimetype": "text/x-python",
   "name": "python",
   "nbconvert_exporter": "python",
   "pygments_lexer": "ipython3",
   "version": "3.8.5"
  }
 },
 "nbformat": 4,
 "nbformat_minor": 4
}
