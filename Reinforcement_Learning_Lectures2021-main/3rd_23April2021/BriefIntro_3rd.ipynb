{
 "cells": [
  {
   "cell_type": "markdown",
   "metadata": {},
   "source": [
    "## Third lecture - 23th April 2021\n",
    "\n",
    "### State-value funtion ($V_\\pi$) evaluation in the _model-free_ case.\n",
    "\n",
    "#### 1st Half (45min): from Monte Carlo to Temporal Difference\n",
    "\n",
    "- Basic definition of Value -> MC.\n",
    "- MC with learning rates.\n",
    "- Exploiting recursivity -> Temporal Difference TD(0).\n",
    "- Mixing both: the _n-step_ return.\n",
    "\n",
    "###### break (15min)\n",
    "\n",
    "#### 2nd Half (45min): TD($\\lambda$) Eligibility traces\n",
    "\n",
    "- The traces as a tool to retain short-term \"memory\" of past experience.\n",
    "- Forward view/Backward view equivalence.\n",
    "- Performance."
   ]
  }
 ],
 "metadata": {
  "kernelspec": {
   "display_name": "Python 3",
   "language": "python",
   "name": "python3"
  },
  "language_info": {
   "codemirror_mode": {
    "name": "ipython",
    "version": 3
   },
   "file_extension": ".py",
   "mimetype": "text/x-python",
   "name": "python",
   "nbconvert_exporter": "python",
   "pygments_lexer": "ipython3",
   "version": "3.8.5"
  }
 },
 "nbformat": 4,
 "nbformat_minor": 4
}
