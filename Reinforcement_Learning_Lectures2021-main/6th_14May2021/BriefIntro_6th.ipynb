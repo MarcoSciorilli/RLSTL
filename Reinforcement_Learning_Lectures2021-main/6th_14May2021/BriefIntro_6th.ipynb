{
 "cells": [
  {
   "cell_type": "markdown",
   "metadata": {},
   "source": [
    "## Policy Gradient Methods\n",
    "\n",
    "### 1st Half\n",
    "*Policy Gradient Methods*\n",
    "- Soft-max policies\n",
    "- Actor-only: REINFORCE\n",
    "- Actor-Critic\n",
    "\n",
    "#### Break\n",
    "### 2nd Half\n",
    "- The Natural Gradient\n",
    "- Actor-Critic with Natural Gradient"
   ]
  }
 ],
 "metadata": {
  "kernelspec": {
   "display_name": "Python 3",
   "language": "python",
   "name": "python3"
  },
  "language_info": {
   "codemirror_mode": {
    "name": "ipython",
    "version": 3
   },
   "file_extension": ".py",
   "mimetype": "text/x-python",
   "name": "python",
   "nbconvert_exporter": "python",
   "pygments_lexer": "ipython3",
   "version": "3.8.5"
  }
 },
 "nbformat": 4,
 "nbformat_minor": 5
}
